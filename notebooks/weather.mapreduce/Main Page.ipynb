{
 "metadata": {
  "name": "",
  "signature": "sha256:93e70a23a80f6ce344794ac93a2546b666f6daba5ac79ae1f1d644f52afd86cd"
 },
 "nbformat": 3,
 "nbformat_minor": 0,
 "worksheets": [
  {
   "cells": [
    {
     "cell_type": "heading",
     "level": 1,
     "metadata": {},
     "source": [
      "Table of Contents"
     ]
    },
    {
     "cell_type": "markdown",
     "metadata": {},
     "source": [
      "<ol>\n",
      "<li>Introduction</li>\n",
      "<li>The Dataset</li>\n",
      "<li>Pre-Processing</li>\n",
      "<li>Pre-Analysis</li>\n",
      "<li>Partitioning</li>\n",
      "<li>PCA</li>\n",
      "<li>Merging</li>\n",
      "</ol>"
     ]
    },
    {
     "cell_type": "heading",
     "level": 1,
     "metadata": {},
     "source": [
      "Introduction"
     ]
    },
    {
     "cell_type": "markdown",
     "metadata": {},
     "source": [
      "In this notebook, we provide a detailed explanation of the analysis we have performed on a large dataset which global weahter information spanning across many years. "
     ]
    },
    {
     "cell_type": "heading",
     "level": 1,
     "metadata": {},
     "source": [
      "The Dataset"
     ]
    },
    {
     "cell_type": "markdown",
     "metadata": {},
     "source": [
      "The dataset is downloaded from http://www1.ncdc.noaa.gov/pub/data/ghcn/daily/, the main file is ghcnd_all.tar.gz which is about 2.4 GB which becomes around 20GB when uncompressed.<br>\n",
      "\n",
      "GHCN (Global Historical Climatology Network)-Daily is an integrated database of daily climate summaries from land surface stations across the globe. GHCN-D is a composite of climate records from numerous sources that were merged and then subjected to a suite of quality assurance reviews. The archive includes the following meteorological elements:\n",
      "\n",
      "* Daily maximum temperature $TMAX$\n",
      "* Daily minimum temperature $TMIN$\n",
      "* Precipitation (i.e., rainfall and snow water equivalent) $PRCP$\n",
      "* Snowfall $SNOW$\n",
      "* Snow depth $SNWD$\n",
      "* Other elements are reported by selected stations\n",
      "\n",
      "\n",
      "GHCN-Daily contains records from over 75000 stations in 180 countries and territories. Both the record length and period of record vary by station and cover intervals ranging from less than year to more than 175 years.\n",
      "\n",
      "The temperature measurements are in 10x degree Celsius, i.e, divide by 10.0 to get the temperature in degrees Celsius."
     ]
    },
    {
     "cell_type": "heading",
     "level": 1,
     "metadata": {},
     "source": [
      "Pre-Processing"
     ]
    },
    {
     "cell_type": "markdown",
     "metadata": {},
     "source": [
      "We have a first look at the data..."
     ]
    },
    {
     "cell_type": "code",
     "collapsed": false,
     "input": [],
     "language": "python",
     "metadata": {},
     "outputs": [],
     "prompt_number": 2
    },
    {
     "cell_type": "markdown",
     "metadata": {},
     "source": [
      "It's important to note that not all the (station, year) rows have all the 365 measurements for any field. Measurements for some days are missing. This makes the analysis difficult and we need to find a mechanism to tackle these missing values."
     ]
    },
    {
     "cell_type": "markdown",
     "metadata": {},
     "source": [
      "In this project, the emphasis will be on temperature measurements $TMAX\\ \\&\\ TMIN$.\n",
      "\n",
      "We look at the distribution of the temperature values"
     ]
    },
    {
     "cell_type": "code",
     "collapsed": false,
     "input": [],
     "language": "python",
     "metadata": {},
     "outputs": [],
     "prompt_number": 2
    },
    {
     "cell_type": "markdown",
     "metadata": {},
     "source": [
      "The range of the temperature measurements is ------, which doesn't look sensible. This suggests that the sensors might provide false readings, at times. We *sanitize* the data, so that the unreal readings do not affect our analysis\n",
      "* Replace values outside the range [-400,500] ([-40,50] degrees celsius) with $NaN$ (as good as a missing value)"
     ]
    },
    {
     "cell_type": "code",
     "collapsed": false,
     "input": [],
     "language": "python",
     "metadata": {},
     "outputs": []
    }
   ],
   "metadata": {}
  }
 ]
}