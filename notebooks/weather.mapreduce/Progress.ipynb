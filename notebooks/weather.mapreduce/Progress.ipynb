{
 "metadata": {
  "name": "",
  "signature": "sha256:450d1eb6300cd080566d0ae600f4a40e882b2545b0e4cd4c344ddf2e263c60f9"
 },
 "nbformat": 3,
 "nbformat_minor": 0,
 "worksheets": [
  {
   "cells": [
    {
     "cell_type": "code",
     "collapsed": false,
     "input": [
      "import pandas as pd\n",
      "import numpy as np\n",
      "import sklearn as sk\n",
      "import scipy\n",
      "import pickle\n",
      "from mpl_toolkits.basemap import Basemap\n",
      "print 'pandas version: ',pd.__version__\n",
      "print 'numpy version:',np.__version__\n",
      "print 'sklearn version:',sk.__version__\n",
      "print 'scipy version:',scipy.__version__\n",
      "print 'pickle version:',pickle.__version__"
     ],
     "language": "python",
     "metadata": {},
     "outputs": [
      {
       "output_type": "stream",
       "stream": "stdout",
       "text": [
        "pandas version:  0.13.1\n",
        "numpy version: 1.8.1\n",
        "sklearn version: 0.14.1\n",
        "scipy version: 0.13.3\n",
        "pickle version: $Revision: 72223 $\n"
       ]
      }
     ],
     "prompt_number": 8
    },
    {
     "cell_type": "code",
     "collapsed": false,
     "input": [
      "!ls -l ./weather_analysis/"
     ],
     "language": "python",
     "metadata": {},
     "outputs": [
      {
       "output_type": "stream",
       "stream": "stdout",
       "text": [
        "total 11508\r\n",
        "-rw-rw-r-- 1 ubuntu ubuntu  101590 Jun 11 21:41 copy_weather_analysis_sanity-check.ipynb\r\n",
        "-rw-rw-r-- 1 ubuntu ubuntu    1343 Jun 11 23:14 mr_weather_hist_1.py\r\n",
        "-rw-rw-r-- 1 ubuntu ubuntu    1327 Jun 11 21:40 mr_weather_sanity_1.py\r\n",
        "-rw-rw-r-- 1 ubuntu ubuntu    1392 Jun 11 19:53 mr_weather_sanity.py\r\n",
        "-rw-rw-r-- 1 ubuntu ubuntu 8051413 Jun 11 19:39 stations.pkl\r\n",
        "-rw-rw-r-- 1 ubuntu ubuntu    7325 Jun 11 23:16 TMINTMAX_hist_1_head.pkl\r\n",
        "-rw-rw-r-- 1 ubuntu ubuntu       0 Jun 11 23:17 TMINTMAX_hist_1.pkl\r\n",
        "-rw-rw-r-- 1 ubuntu ubuntu       0 Jun 11 21:40 TMINTMAX_range1.pkl\r\n",
        "-rw-rw-r-- 1 ubuntu ubuntu  155155 Jun 11 23:18 weather_analysis_sanity-check.ipynb\r\n",
        "-rw-rw-r-- 1 ubuntu ubuntu 3449986 Jun 11 19:39 weather_analysis_station-statistics.ipynb\r\n"
       ]
      }
     ],
     "prompt_number": 2
    },
    {
     "cell_type": "code",
     "collapsed": false,
     "input": [
      "data = pd.read_table(\"./weather_analysis/TMINTMAX_hist_1.pkl\")"
     ],
     "language": "python",
     "metadata": {},
     "outputs": [],
     "prompt_number": 39
    },
    {
     "cell_type": "code",
     "collapsed": false,
     "input": [
      "data.head()"
     ],
     "language": "python",
     "metadata": {},
     "outputs": [
      {
       "html": [
        "<div style=\"max-height:1000px;max-width:1500px;overflow:auto;\">\n",
        "<table border=\"1\" class=\"dataframe\">\n",
        "  <thead>\n",
        "    <tr style=\"text-align: right;\">\n",
        "      <th></th>\n",
        "      <th>-105</th>\n",
        "      <th>201577</th>\n",
        "    </tr>\n",
        "  </thead>\n",
        "  <tbody>\n",
        "    <tr>\n",
        "      <th>0</th>\n",
        "      <td>-116</td>\n",
        "      <td>  85981</td>\n",
        "    </tr>\n",
        "    <tr>\n",
        "      <th>1</th>\n",
        "      <td>-127</td>\n",
        "      <td>  70482</td>\n",
        "    </tr>\n",
        "    <tr>\n",
        "      <th>2</th>\n",
        "      <td>-130</td>\n",
        "      <td> 268296</td>\n",
        "    </tr>\n",
        "    <tr>\n",
        "      <th>3</th>\n",
        "      <td>-138</td>\n",
        "      <td>  66838</td>\n",
        "    </tr>\n",
        "    <tr>\n",
        "      <th>4</th>\n",
        "      <td>-141</td>\n",
        "      <td>  61134</td>\n",
        "    </tr>\n",
        "  </tbody>\n",
        "</table>\n",
        "<p>5 rows \u00d7 2 columns</p>\n",
        "</div>"
       ],
       "metadata": {},
       "output_type": "pyout",
       "prompt_number": 40,
       "text": [
        "   -105  201577\n",
        "0  -116   85981\n",
        "1  -127   70482\n",
        "2  -130  268296\n",
        "3  -138   66838\n",
        "4  -141   61134\n",
        "\n",
        "[5 rows x 2 columns]"
       ]
      }
     ],
     "prompt_number": 40
    },
    {
     "cell_type": "code",
     "collapsed": false,
     "input": [
      "sane_data = data"
     ],
     "language": "python",
     "metadata": {},
     "outputs": [],
     "prompt_number": 42
    },
    {
     "cell_type": "code",
     "collapsed": false,
     "input": [
      "data.iloc[1]"
     ],
     "language": "python",
     "metadata": {},
     "outputs": [
      {
       "metadata": {},
       "output_type": "pyout",
       "prompt_number": 73,
       "text": [
        "-105       -127\n",
        "201577    70482\n",
        "Name: 1, dtype: int64"
       ]
      }
     ],
     "prompt_number": 73
    },
    {
     "cell_type": "code",
     "collapsed": false,
     "input": [
      "sane_data = data[data.ix[:,0] < 600]\n",
      "sane_data = sane_data[sane_data.ix[:,0] > -500]"
     ],
     "language": "python",
     "metadata": {},
     "outputs": [],
     "prompt_number": 77
    },
    {
     "cell_type": "code",
     "collapsed": false,
     "input": [
      "from matplotlib.pyplot import *\n",
      "fig=bar(data.ix[:,0], data.ix[:,1])\n",
      "show()"
     ],
     "language": "python",
     "metadata": {},
     "outputs": [
      {
       "metadata": {},
       "output_type": "display_data",
       "png": "[encoded data removed]",
       "text": [
        "<matplotlib.figure.Figure at 0x63bf050>"
       ]
      }
     ],
     "prompt_number": 41
    },
    {
     "cell_type": "code",
     "collapsed": false,
     "input": [
      "sum(data.ix[:,1])"
     ],
     "language": "python",
     "metadata": {},
     "outputs": [
      {
       "metadata": {},
       "output_type": "pyout",
       "prompt_number": 35,
       "text": [
        "73169"
       ]
      }
     ],
     "prompt_number": 35
    },
    {
     "cell_type": "code",
     "collapsed": false,
     "input": [
      "from matplotlib.pyplot import *\n",
      "bar(sane_data.ix[:,0], sane_data.ix[:,1])\n",
      "show()"
     ],
     "language": "python",
     "metadata": {},
     "outputs": [
      {
       "metadata": {},
       "output_type": "display_data",
       "png": "[encoded data removed]",
       "text": [
        "<matplotlib.figure.Figure at 0x63c8dd0>"
       ]
      }
     ],
     "prompt_number": 78
    }
   ],
   "metadata": {}
  }
 ]
}